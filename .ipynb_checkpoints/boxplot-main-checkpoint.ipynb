{
 "cells": [
  {
   "cell_type": "code",
   "execution_count": 45,
   "metadata": {},
   "outputs": [],
   "source": [
    "import seaborn as sns\n",
    "import numpy as np\n",
    "import pandas as pd\n",
    "sns.set_theme(style=\"whitegrid\")"
   ]
  },
  {
   "cell_type": "code",
   "execution_count": 92,
   "metadata": {},
   "outputs": [],
   "source": [
    "df = pd.DataFrame([[4, 1680], [4, 1680], [4, 1740], [4, 1740], [4, 1740], [4, 1740], [4, 1740], [4, 1740], [4, 1740], [4, 1740], [4, 1740], [4, 1740], [24, 1740], [5, 1740], [4, 1785], [4, 1800], [4, 1800], [4, 1860], [4, 1860], [4, 1860], [5, 1860], [4, 1910], [4, 1935], [4, 1980], [4, 1980], [4, 1980], [4, 1980], [4, 1980], [4, 1980], [4, 1980], [4, 1980], [4, 1980], [4, 1980], [4, 1980], [4, 1980], [4, 1980], [5, 1980], [5, 1980], [4, 2040], [4, 2055], [4, 2385], [4, 2580], [4, 2580], [4, 2580], [4, 2610], [4, 2685], [4, 2700], [5, 2760], [5, 2760], [4, 2880], [4, 2880], [4, 2880], [4, 2880], [4, 2880], [4, 2880], [4, 2880], [4, 2880], [4, 2880], [5, 2880], [4, 3000], [4, 3000], [4, 3060], [4, 3180], [4, 3180], [4, 3180], [4, 3240], [4, 3300], [4, 3360], [4, 3420], [4, 3420], [4, 3420], [4, 3420], [4, 3420], [4, 3420], [4, 3420], [4, 3420], [4, 3420], [4, 3420], [4, 3420], [4, 3420], [4, 3420], [4, 3420], [4, 3420], [4, 3420], [4, 3420], [4, 3420], [4, 3420], [4, 3420], [4, 3420], [4, 3420], [4, 3420], [4, 3420], [4, 3420], [5, 3420], [5, 3420], [5, 3420], [5, 3420], [4, 3900], [4, 4020], [4, 4020], [5, 4200], [4, 4260], [4, 4260], [4, 4260], [4, 4320], [4, 4320], [4, 4320], [4, 4320], [4, 4320], [4, 4320], [4, 4320], [4, 4320], [4, 4320], [4, 4320], [4, 4320], [4, 4320], [4, 4320], [4, 4320], [4, 4320], [4, 4320], [4, 4320], [4, 4320], [4, 4320], [4, 4320], [4, 4320], [4, 4320], [4, 4320], [4, 4320], [6, 4320], [4, 4485], [4, 4485], [4, 4485], [4, 4500], [4, 4500], [4, 4500], [4, 4500], [4, 4530], [4, 4560], [4, 4560], [4, 4560], [4, 4560], [5, 4620], [4, 4860], [4, 4860], [4, 4860], [4, 4860], [4, 4860], [4, 4860], [4, 4860], [4, 4860], [4, 4860], [4, 4860], [5, 4860], [4, 5340], [4, 5385], [4, 5490], [4, 5760], [4, 5760], [4, 5760], [4, 5760], [4, 5760], [4, 5760], [4, 5760], [4, 5760], [5, 5760], [25, 5760], [4, 5820], [4, 5880], [4, 6300], [4, 6300], [4, 6300], [4, 6300], [4, 6300], [25, 6300], [5, 6300], [5, 6300], [6, 6300], [4, 6540], [4, 6660], [4, 6780], [6, 6900], [4, 7003], [4, 7140], [4, 7200], [4, 7200], [4, 7200], [4, 7320], [4, 7740], [4, 8145], [4, 8370], [4, 8460], [4, 8640], [4, 8640], [4, 8640], [4, 8640], [4, 8640], [4, 9180], [4, 9180], [4, 9180], [5, 9180], [6, 9180], [4, 10080], [4, 10080], [4, 10080], [4, 10080], [4, 10620], [4, 10635], [4, 12060], [4, 12060], [4, 12060], [4, 12960], [4, 12960], [4, 12960], [5, 13500], [5, 13500], [4, 15840], [4, 15840], [4, 15840], [4, 16380], [4, 16380], [4, 16380], [4, 16860], [4, 17280], [4, 17280], [4, 18480]\n",
    "], columns=[\"range\", \"time\"])"
   ]
  },
  {
   "cell_type": "code",
   "execution_count": 93,
   "metadata": {},
   "outputs": [
    {
     "data": {
      "text/html": [
       "<div>\n",
       "<style scoped>\n",
       "    .dataframe tbody tr th:only-of-type {\n",
       "        vertical-align: middle;\n",
       "    }\n",
       "\n",
       "    .dataframe tbody tr th {\n",
       "        vertical-align: top;\n",
       "    }\n",
       "\n",
       "    .dataframe thead th {\n",
       "        text-align: right;\n",
       "    }\n",
       "</style>\n",
       "<table border=\"1\" class=\"dataframe\">\n",
       "  <thead>\n",
       "    <tr style=\"text-align: right;\">\n",
       "      <th></th>\n",
       "      <th>range</th>\n",
       "      <th>time</th>\n",
       "    </tr>\n",
       "  </thead>\n",
       "  <tbody>\n",
       "    <tr>\n",
       "      <th>0</th>\n",
       "      <td>4</td>\n",
       "      <td>1680</td>\n",
       "    </tr>\n",
       "    <tr>\n",
       "      <th>1</th>\n",
       "      <td>4</td>\n",
       "      <td>1680</td>\n",
       "    </tr>\n",
       "    <tr>\n",
       "      <th>2</th>\n",
       "      <td>4</td>\n",
       "      <td>1740</td>\n",
       "    </tr>\n",
       "    <tr>\n",
       "      <th>3</th>\n",
       "      <td>4</td>\n",
       "      <td>1740</td>\n",
       "    </tr>\n",
       "    <tr>\n",
       "      <th>4</th>\n",
       "      <td>4</td>\n",
       "      <td>1740</td>\n",
       "    </tr>\n",
       "    <tr>\n",
       "      <th>5</th>\n",
       "      <td>4</td>\n",
       "      <td>1740</td>\n",
       "    </tr>\n",
       "    <tr>\n",
       "      <th>6</th>\n",
       "      <td>4</td>\n",
       "      <td>1740</td>\n",
       "    </tr>\n",
       "    <tr>\n",
       "      <th>7</th>\n",
       "      <td>4</td>\n",
       "      <td>1740</td>\n",
       "    </tr>\n",
       "    <tr>\n",
       "      <th>8</th>\n",
       "      <td>4</td>\n",
       "      <td>1740</td>\n",
       "    </tr>\n",
       "    <tr>\n",
       "      <th>9</th>\n",
       "      <td>4</td>\n",
       "      <td>1740</td>\n",
       "    </tr>\n",
       "  </tbody>\n",
       "</table>\n",
       "</div>"
      ],
      "text/plain": [
       "   range  time\n",
       "0      4  1680\n",
       "1      4  1680\n",
       "2      4  1740\n",
       "3      4  1740\n",
       "4      4  1740\n",
       "5      4  1740\n",
       "6      4  1740\n",
       "7      4  1740\n",
       "8      4  1740\n",
       "9      4  1740"
      ]
     },
     "execution_count": 93,
     "metadata": {},
     "output_type": "execute_result"
    }
   ],
   "source": [
    "df.head(10)"
   ]
  },
  {
   "cell_type": "code",
   "execution_count": 94,
   "metadata": {},
   "outputs": [
    {
     "data": {
      "image/png": "[encoded data removed]",
      "text/plain": [
       "<Figure size 432x288 with 1 Axes>"
      ]
     },
     "metadata": {},
     "output_type": "display_data"
    }
   ],
   "source": [
    "ax = sns.boxplot(x=\"range\", y=\"time\", data=df)"
   ]
  },
  {
   "cell_type": "code",
   "execution_count": null,
   "metadata": {},
   "outputs": [],
   "source": []
  }
 ],
 "metadata": {
  "kernelspec": {
   "display_name": "Python 3",
   "language": "python",
   "name": "python3"
  },
  "language_info": {
   "codemirror_mode": {
    "name": "ipython",
    "version": 3
   },
   "file_extension": ".py",
   "mimetype": "text/x-python",
   "name": "python",
   "nbconvert_exporter": "python",
   "pygments_lexer": "ipython3",
   "version": "3.8.5"
  }
 },
 "nbformat": 4,
 "nbformat_minor": 4
}
