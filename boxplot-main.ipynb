{
 "cells": [
  {
   "cell_type": "code",
   "execution_count": 45,
   "metadata": {},
   "outputs": [],
   "source": [
    "import seaborn as sns\n",
    "import numpy as np\n",
    "import pandas as pd\n",
    "sns.set_theme(style=\"whitegrid\")"
   ]
  },
  {
   "cell_type": "code",
   "execution_count": 46,
   "metadata": {},
   "outputs": [],
   "source": [
    "df = pd.DataFrame([[4, 32400], [4, 7200], [4, 86400], [4, 190800], [4, 32400], [4, 172800], [4, 7200], [4, 86400], [4, 79200], [4, 14400], [4, 7200], [4, 32400], [4, 28800], [4, 32400], [4, 205200], [4, 86400], [4, 172800], [4, 14400], [4, 100800], [4, 18000], [4, 25200], [4, 32400], [4, 86400], [4, 32400], [4, 259200], [4, 32400], [4, 32400], [4, 10800], [4, 1468800], [4, 1468800], [4, 1296000], [4, 1296000], [4, 1296000], [4, 32400], [4, 86400], [4, 33300], [4, 291600], [4, 205200], [4, 86400], [4, 1382400], [4, 1587600], [4, 18000], [4, 86400], [4, 32400], [4, 7200], [4, 7200], [4, 18000], [4, 7200], [4, 86400], [4, 7200], [4, 1036800], [4, 1036800], [4, 950400], [4, 950400], [4, 86400], [4, 7200], [4, 7200], [4, 10800], [4, 0], [4, 7200], [4, 93600], [4, 7200], [4, 86400], [4, 7200], [4, 75600], [4, 64800], [4, 32400], [4, 36000], [4, 19800], [4, 32400], [4, 7200], [4, 7200], [4, 32400], [4, 32400], [4, 7200], [4, 86400], [4, 777600], [4, 777600], [4, 32400], [4, 777600], [4, 32400], [4, 32400], [4, 320400], [4, 32400], [4, 21600], [4, 104400], [4, 18000], [4, 14400], [4, 32400], [4, 118800], [4, 32400], [4, 32400], [4, 5400], [4, 61200], [4, 10800], [4, 86400], [4, 32400], [4, 32400], [4, 7200], [4, 7200], [4, 122400], [4, 10800], [4, 234000], [4, 205200], [4, 25200], [4, 5400], [4, 61200], [4, 7200], [4, 86400], [4, 6600], [4, 7200], [4, 18000], [4, 7200], [4, 291600], [4, 32400], [4, 32400], [4, 14400], [4, 32400], [4, 32400], [4, 291600], [4, 3600], [4, 86400], [4, 201600], [4, 1674000], [4, 9600], [4, 32400], [4, 86400], [4, 205200], [4, 32400], [4, 14400], [4, 86400], [4, 14400], [4, 86400], [4, 118800], [4, 205200], [4, 241200], [4, 14400], [4, 86400], [4, 7200], [4, 86400], [4, 32400], [4, 14400], [4, 90000], [4, 32400], [4, 32400], [4, 32400], [4, 25200], [4, 32400], [4, 32400], [4, 72000], [4, 259200], [4, 18000], [4, 107100], [4, 21600], [4, 32400], [4, 32400], [4, 25200], [4, 1011600], [4, 32400], [4, 32400], [4, 118800], [4, 32400], [4, 118800], [4, 86400], [4, 21600], [4, 638100], [4, 18000], [4, 118800], [4, 205200], [4, 5400], [4, 86400], [4, 259200], [4, 259200], [4, 11400], [4, 32400], [4, 205200], [4, 32400], [4, 7200], [4, 86400], [4, 32400], [4, 25200], [4, 86400], [4, 25200], [4, 32400], [4, 68400], [4, 14400], [4, 10800], [4, 32400], [4, 1800], [4, 32400], [4, 180000], [4, 14400], [4, 10800], [4, 10800], [4, 100800], [4, 32400], [4, 32400], [4, 18000], [4, 14400], [4, 154800], [4, 86400], [4, 18000], [4, 32400], [4, 32400], [4, 32400], [4, 32400], [4, 32400], [4, 86400], [4, 91800], [4, 16200], [4, 104400], [4, 14400], [4, 205200], [4, 259200], [4, 32400], [4, 32400], [4, 32400], [4, 420180], [4, 3600], [4, 3600], [4, 3600], [4, 68400], [4, 36000], [4, 7200], [4, 982800], [4, 32400], [4, 518400], [4, 86400], [4, 68400], [4, 86400], [4, 97200], [4, 32400], [4, 32400], [4, 205200], [4, 32400], [4, 32400], [4, 61200], [4, 349200], [4, 18000], [4, 378000], [4, 32400], [4, 21600], [4, 97200], [4, 345600], [4, 259200], [4, 7200], [4, 32400], [4, 86400], [4, 104400], [4, 86400], [4, 28800], [4, 14400], [4, 291600], [4, 86400], [4, 32400], [4, 32400], [4, 86400], [4, 86400], [4, 180000], [4, 1900800], [4, 32400], [4, 86400], [4, 5400], [4, 18000], [4, 32400], [4, 1218600], [4, 18000], [4, 3600], [4, 32400], [4, 19800], [4, 32400], [4, 86400], [4, 7200], [4, 32400], [4, 82800], [4, 345600], [4, 32400], [4, 32400], [4, 73800], [4, 86400], [4, 32400], [4, 32400], [4, 86400], [4, 32400], [4, 0], [4, 0], [4, 345600], [4, 0], [4, 86400], [4, 0], [4, 0], [4, 0], [4, 86400], [4, 518400], [4, 0], [4, 86400], [4, 0], [4, 0], [4, 0], [4, 0], [4, 172800], [4, 0], [4, 0], [4, 0], [4, 86400], [4, 0], [4, 259200], [4, 0], [4, 86400], [4, 86400], [4, 0], [4, 0], [4, 86400], [4, 161100], [4, 97200], [4, 1800], [4, 439200], [4, 3600], [4, 604800], [4, 86400], [4, 14400], [4, 86400], [4, 32400], [4, 3600], [4, 10800], [4, 45000], [4, 86400], [4, 86400], [4, 5400], [4, 14400], [4, 32400], [4, 7200], [4, 255600], [4, 118800], [4, 7200], [4, 32400], [4, 241200], [4, 86400], [4, 86400], [4, 7200], [4, 723600], [4, 18000], [4, 28800], [4, 259200], [4, 172800], [4, 86400], [4, 1382400], [4, 1555200], [4, 162000], [4, 205200], [4, 118800], [4, 205200], [4, 32400], [4, 18000], [4, 14400], [4, 259200], [4, 32400], [4, 86400], [4, 10800], [4, 32400], [4, 7200], [4, 291600], [4, 118800], [4, 111600], [4, 10800], [4, 21600], [4, 100800], [4, 291600], [4, 86400], [4, 32400], [4, 32400], [4, 32400], [4, 13200], [4, 10800], [4, 61200], [4, 32400], [4, 18000], [4, 86400], [4, 7200], [4, 32400], [4, 10800], [4, 143100], [4, 273600], [4, 72000], [4, 9000], [4, 32400], [4, 3600], [4, 32400], [4, 32400], [4, 270000], [4, 25200], [4, 291600], [4, 32400], [4, 32400], [4, 518400], [4, 86400], [4, 32400], [4, 86400], [4, 32400], [4, 32400], [4, 399600], [4, 518400], [4, 18000], [4, 550800], [4, 7200], [4, 86400], [4, 86400], [4, 32400], [4, 269100], [4, 33300], [4, 32400], [4, 269100], [4, 33300], [4, 271800], [4, 269100], [4, 33300], [4, 32400], [4, 32400], [4, 32400], [4, 291600], [4, 32400], [4, 32400], [4, 7200], [4, 14400], [4, 10800], [4, 10800], [4, 28800], [4, 86400], [4, 32400], [4, 25200], [4, 3600], [4, 104400], [4, 273600], [4, 104400], [4, 100800], [4, 32400], [4, 205200], [4, 32400], [4, 97200], [4, 82800], [4, 86400], [4, 14400], [4, 10800], [4, 64800], [4, 32400], [4, 86400], [4, 86400], [4, 10800], [4, 604800], [4, 32400], [4, 18000], [4, 32400], [4, 205200], [4, 114600], [4, 270000], [4, 3600], [4, 32400], [4, 32400], [4, 32400], [4, 32400], [4, 59400], [4, 378000], [4, 118800], [4, 10800], [4, 950400], [4, 68400], [4, 32400], [4, 156600], [4, 21600], [4, 323100], [4, 118800], [4, 255600], [4, 18000], [4, 550800], [4, 205200], [4, 32400], [4, 18000], [4, 32400], [4, 118800], [4, 68400], [4, 259200], [4, 68400], [4, 18000], [4, 32400], [4, 259200], [4, 18000], [4, 352800], [4, 7200], [4, 86400], [4, 14400], [4, 72000], [4, 32400], [4, 14400], [4, 488700], [4, 392400], [4, 86400], [4, 1382400], [4, 32400], [4, 1587600], [4, 57600], [4, 14400], [4, 32400], [4, 259200], [4, 32400], [4, 7200], [4, 7200], [4, 7200], [4, 12600], [4, 32400], [4, 428400], [4, 7200], [4, 518400], [4, 32400], [4, 86400], [4, 32400], [4, 32400], [4, 14400], [4, 32400], [4, 32400], [4, 100800], [4, 32400], [4, 3600], [4, 32400], [4, 86400], [4, 637200], [4, 86400], [4, 550800], [4, 2538000], [4, 86400], [4, 10800], [4, 86400], [4, 32400], [4, 7200], [4, 86400], [4, 32400], [4, 32400], [4, 4500], [4, 10800], [4, 25200], [4, 86400], [4, 104400], [4, 32400], [4, 7200], [4, 14400], [4, 32400], [4, 86400], [4, 32400], [4, 7200], [4, 86400], [4, 378000], [4, 18000], [4, 18000], [4, 32400], [4, 7200], [4, 32400], [4, 10800], [4, 10800], [4, 86400], [4, 32400], [4, 7200], [4, 32400], [4, 32400], [4, 7200], [4, 86400], [4, 205200], [4, 32400], [4, 18000], [4, 10800], [4, 68400], [4, 259200], [4, 32400], [4, 11700], [4, 32400], [4, 32400], [4, 32400], [4, 86400], [4, 64800], [4, 10800], [4, 32400], [4, 32400], [4, 14400], [4, 7200], [4, 205200], [4, 32400], [4, 32400], [4, 32400], [4, 5400], [4, 32400], [4, 5400], [4, 97200], [4, 86400], [4, 10800], [4, 3900], [24, 21600], [4, 86400], [4, 345600], [4, 14400], [4, 7200], [4, 7200], [4, 86400], [4, 205200], [4, 32400], [4, 32400], [4, 154800], [4, 259200], [4, 32400], [4, 32400], [4, 86400], [4, 86400], [4, 32400], [4, 183600], [4, 14400], [4, 32400], [4, 329400], [4, 79200], [4, 32400], [4, 86400], [4, 61200], [4, 32400], [4, 14400], [4, 32400], [4, 345600], [4, 502200], [4, 32400], [4, 205200], [4, 259200], [4, 2073600], [4, 3300], [4, 190800], [4, 64200], [4, 32400], [4, 86400], [4, 172800], [4, 18000], [4, 18000], [4, 86400], [4, 100800], [4, 32400], [4, 32400], [4, 32400], [4, 32400], [4, 86400], [4, 273600], [4, 7200], [4, 86400], [4, 86400], [4, 32400], [4, 32400], [4, 80100], [4, 37800], [4, 32400], [4, 32400], [4, 86400], [4, 68400], [4, 36000], [4, 14400], [4, 108000], [4, 14400], [4, 86400], [4, 2419200], [4, 86400], [4, 15120000], [4, 32400], [4, 259200], [4, 982800], [4, 194400], [4, 32400], [4, 32400], [4, 7200], [4, 21600], [4, 86400], [4, 32400], [4, 86400], [4, 3600], [4, 14400], [4, 32400], [4, 32400], [4, 86400], [4, 723600], [4, 32400], [4, 21600], [4, 99000], [4, 32400], [4, 18000], [4, 291600], [4, 32400], [4, 32400], [4, 270000], [4, 25200], [4, 291600], [4, 32400], [4, 86400], [4, 32400], [4, 86400], [4, 205200], [4, 104400], [4, 86400], [4, 108000], [4, 32400], [4, 86400], [4, 32400], [4, 2592000], [4, 406800], [4, 32400], [4, 32400], [4, 104400], [4, 123300], [4, 32400], [4, 432000], [4, 64800], [4, 172800], [4, 86400], [4, 32400], [4, 4500], [4, 18000], [4, 7200], [4, 7200], [4, 86400], [4, 32400], [4, 104400], [4, 10800], [4, 3600], [4, 8400], [4, 86400], [4, 205200], [24, 7200], [4, 3600], [4, 464400], [4, 3600], [4, 259200], [4, 154800], [4, 259200], [4, 72000], [4, 86400], [4, 259200], [4, 86400], [4, 3600], [4, 104400], [4, 32400], [4, 21600], [4, 32400], [4, 14400], [4, 18000], [4, 32400], [4, 111600], [4, 14400], [4, 0], [4, 32400], [4, 3056400], [4, 507600], [4, 604800], [4, 77400], [4, 7200], [4, 86400], [4, 86400], [4, 32400], [4, 14400], [4, 3600], [4, 604800], [4, 14400], [4, 723600], [4, 36000], [4, 32400], [4, 116100], [4, 32400], [4, 273600], [4, 61200], [4, 32400], [4, 86400], [4, 32400], [4, 259200], [4, 14400], [4, 345600], [4, 32400], [4, 32400], [4, 32400], [4, 7200], [4, 5400], [4, 205200], [4, 205200], [4, 190800], [4, 32400], [4, 259200], [4, 7200], [4, 32400], [4, 259200], [4, 32400], [4, 432000], [4, 18000], [4, 32400], [4, 32400], [4, 3600], [4, 86400], [4, 86400], [4, 25200], [4, 68400], [4, 32400], [4, 32400], [4, 172800], [4, 25200], [4, 82800], [4, 14400], [4, 7200], [4, 68400], [4, 3600], [4, 32400], [4, 68400], [4, 259200], [4, 36000], [4, 378000], [4, 32400], [4, 68400], [4, 205200], [4, 32400], [4, 111600], [4, 172800], [4, 2592000], [4, 32400], [4, 18000], [4, 86400], [4, 10800], [4, 32400], [4, 1108800], [4, 255600], [4, 32400], [4, 14400], [4, 86400], [4, 14400], [4, 86400], [4, 32400], [4, 32400], [4, 32400], [4, 32400], [4, 32400], [4, 345600], [4, 7200], [4, 1648800], [4, 16200], [4, 86400], [4, 32400], [4, 18000], [4, 18000], [4, 32400], [4, 32400], [4, 118800], [4, 86400], [4, 32400], [4, 18000], [4, 63000], [4, 93600], [4, 7200], [4, 86400], [4, 3600], [4, 68400], [4, 32400], [4, 14400], [4, 10800], [4, 259200], [4, 32400], [4, 86400], [4, 3600], [4, 3600], [4, 32400], [4, 14400], [4, 32400], [4, 7200], [4, 32400], [4, 32400], [4, 32400], [4, 32400], [4, 86400], [4, 86400], [4, 32400], [4, 86400], [4, 982800], [4, 14400], [4, 32400], [4, 32400], [4, 3600], [4, 18000], [4, 32400], [4, 205200], [4, 32400], [4, 32400], [4, 86400], [4, 3600], [4, 270000], [4, 2592000], [4, 86400], [4, 32400], [4, 14400], [4, 345600], [4, 172800], [4, 32400], [4, 86400], [4, 7200], [4, 82800], [4, 32400], [4, 18000], [4, 32400], [4, 32400], [4, 86400], [4, 10800], [4, 86400], [4, 32400], [4, 18000], [4, 86400], [4, 118800], [4, 86400], [4, 7200], [4, 32400], [4, 32400], [4, 32400], [4, 61200], [4, 10800], [4, 7200], [4, 378000], [4, 432000], [24, 104400], [4, 7200], [4, 205200], [4, 198000], [4, 32400], [4, 81600], [5, 1800], [5, 32400], [5, 205200], [5, 93600], [5, 19800], [25, 86400], [5, 18000], [5, 810000], [5, 32400], [5, 111600], [25, 378000], [5, 118800], [5, 32400], [5, 378000], [5, 291600], [5, 21600], [5, 252000], [5, 345600], [5, 172800], [5, 86400], [5, 7200], [5, 32400], [5, 32400], [5, 86400], [5, 32400], [5, 32400], [5, 32400], [5, 32400], [5, 32400], [5, 32400], [5, 32400], [5, 165600], [5, 205200], [5, 378000], [5, 86400], [5, 810000], [5, 118800], [5, 86400], [25, 345600], [5, 93600], [5, 32400], [5, 32400], [5, 32400], [5, 165600], [5, 104400], [5, 90000], [5, 205200], [5, 32400], [5, 277200], [5, 550800], [5, 86400], [5, 32400], [5, 14400], [5, 86400], [5, 32400], [5, 32400], [5, 86400], [5, 205200], [6, 32400], [6, 32400], [6, 32400], [6, 32400], [6, 32400], [6, 32400], [6, 32400], [6, 21600], [6, 32400], [6, 32400], [6, 32400], [6, 259200], [6, 378000], [6, 32400], [6, 21600], [6, 550800], [6, 414000], [7, 86400]],\n",
    "                  columns=[\"range\", \"time\"])"
   ]
  },
  {
   "cell_type": "code",
   "execution_count": 47,
   "metadata": {},
   "outputs": [
    {
     "data": {
      "text/html": [
       "<div>\n",
       "<style scoped>\n",
       "    .dataframe tbody tr th:only-of-type {\n",
       "        vertical-align: middle;\n",
       "    }\n",
       "\n",
       "    .dataframe tbody tr th {\n",
       "        vertical-align: top;\n",
       "    }\n",
       "\n",
       "    .dataframe thead th {\n",
       "        text-align: right;\n",
       "    }\n",
       "</style>\n",
       "<table border=\"1\" class=\"dataframe\">\n",
       "  <thead>\n",
       "    <tr style=\"text-align: right;\">\n",
       "      <th></th>\n",
       "      <th>range</th>\n",
       "      <th>time</th>\n",
       "    </tr>\n",
       "  </thead>\n",
       "  <tbody>\n",
       "    <tr>\n",
       "      <th>0</th>\n",
       "      <td>4</td>\n",
       "      <td>32400</td>\n",
       "    </tr>\n",
       "    <tr>\n",
       "      <th>1</th>\n",
       "      <td>4</td>\n",
       "      <td>7200</td>\n",
       "    </tr>\n",
       "    <tr>\n",
       "      <th>2</th>\n",
       "      <td>4</td>\n",
       "      <td>86400</td>\n",
       "    </tr>\n",
       "    <tr>\n",
       "      <th>3</th>\n",
       "      <td>4</td>\n",
       "      <td>190800</td>\n",
       "    </tr>\n",
       "    <tr>\n",
       "      <th>4</th>\n",
       "      <td>4</td>\n",
       "      <td>32400</td>\n",
       "    </tr>\n",
       "    <tr>\n",
       "      <th>5</th>\n",
       "      <td>4</td>\n",
       "      <td>172800</td>\n",
       "    </tr>\n",
       "    <tr>\n",
       "      <th>6</th>\n",
       "      <td>4</td>\n",
       "      <td>7200</td>\n",
       "    </tr>\n",
       "    <tr>\n",
       "      <th>7</th>\n",
       "      <td>4</td>\n",
       "      <td>86400</td>\n",
       "    </tr>\n",
       "    <tr>\n",
       "      <th>8</th>\n",
       "      <td>4</td>\n",
       "      <td>79200</td>\n",
       "    </tr>\n",
       "    <tr>\n",
       "      <th>9</th>\n",
       "      <td>4</td>\n",
       "      <td>14400</td>\n",
       "    </tr>\n",
       "  </tbody>\n",
       "</table>\n",
       "</div>"
      ],
      "text/plain": [
       "   range    time\n",
       "0      4   32400\n",
       "1      4    7200\n",
       "2      4   86400\n",
       "3      4  190800\n",
       "4      4   32400\n",
       "5      4  172800\n",
       "6      4    7200\n",
       "7      4   86400\n",
       "8      4   79200\n",
       "9      4   14400"
      ]
     },
     "execution_count": 47,
     "metadata": {},
     "output_type": "execute_result"
    }
   ],
   "source": [
    "df.head(10)"
   ]
  },
  {
   "cell_type": "code",
   "execution_count": 48,
   "metadata": {},
   "outputs": [
    {
     "data": {
      "image/png": "[encoded data removed]",
      "text/plain": [
       "<Figure size 432x288 with 1 Axes>"
      ]
     },
     "metadata": {},
     "output_type": "display_data"
    }
   ],
   "source": [
    "ax = sns.boxplot(x=\"range\", y=\"time\", data=df)"
   ]
  },
  {
   "cell_type": "code",
   "execution_count": null,
   "metadata": {},
   "outputs": [],
   "source": []
  }
 ],
 "metadata": {
  "kernelspec": {
   "display_name": "Python 3",
   "language": "python",
   "name": "python3"
  },
  "language_info": {
   "codemirror_mode": {
    "name": "ipython",
    "version": 3
   },
   "file_extension": ".py",
   "mimetype": "text/x-python",
   "name": "python",
   "nbconvert_exporter": "python",
   "pygments_lexer": "ipython3",
   "version": "3.8.5"
  }
 },
 "nbformat": 4,
 "nbformat_minor": 4
}
